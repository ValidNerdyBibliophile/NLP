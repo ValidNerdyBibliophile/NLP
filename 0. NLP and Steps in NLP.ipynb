{
 "cells": [
  {
   "cell_type": "markdown",
   "id": "6db54861",
   "metadata": {},
   "source": [
    "### What is NLP"
   ]
  },
  {
   "cell_type": "markdown",
   "id": "518ee191",
   "metadata": {},
   "source": [
    "NLP is the study of how machines analyze natural languages and produce meaningful information about the text."
   ]
  },
  {
   "cell_type": "markdown",
   "id": "0c0d0178",
   "metadata": {},
   "source": [
    "## Steps in NLP"
   ]
  },
  {
   "cell_type": "markdown",
   "id": "c7b4c7eb",
   "metadata": {},
   "source": [
    "### Level 1 Text Preprocessing\n",
    "\n",
    "- Tokenization\n",
    "- Lemmatization\n",
    "- StopWords"
   ]
  },
  {
   "cell_type": "markdown",
   "id": "b184588f",
   "metadata": {},
   "source": [
    "### Level 2 Text Preprocessing : Words to Vectors\n",
    "\n",
    "- Bag of Words\n",
    "- TFIDF\n",
    "- Unigrams\n",
    "- Bigrams\n",
    "- Ngrams"
   ]
  },
  {
   "cell_type": "markdown",
   "id": "e27887bf",
   "metadata": {},
   "source": [
    "### Text Preprocessing : Advance Techniques (overcomes the flaws in previous steps and increases accuracy)\n",
    "\n",
    "- Gensim\n",
    "- Word2vec\n",
    "- AvgWord2vec"
   ]
  },
  {
   "cell_type": "markdown",
   "id": "72010094",
   "metadata": {},
   "source": [
    "### Understanding of ANN\n",
    "\n",
    "- Loss Functions\n",
    "- Optimizers\n",
    "- Gradientdescent"
   ]
  },
  {
   "cell_type": "markdown",
   "id": "783543a2",
   "metadata": {},
   "source": [
    "### Understanding of RNN (RNN works well with Sequences of data or time series data eg: Chatbots)\n",
    "\n",
    "- LSTM\n",
    "- GRU"
   ]
  },
  {
   "cell_type": "markdown",
   "id": "eb70343d",
   "metadata": {},
   "source": [
    "### Level 3 Text Preprocessing \n",
    "\n",
    "- Word Embeddings (each words in vectors)\n",
    "- Word2vec"
   ]
  },
  {
   "cell_type": "markdown",
   "id": "70e53994",
   "metadata": {},
   "source": [
    "### Bidirectional LSTM RNN, Encoders and Decoders, Attention Models\n",
    "\n",
    "- In LSTM, suppose we have long sentences, the o/p from one hidden neuron has a dependency is on the last word in the sentence, hence to overcome these problems are covered in Bidirectional LSTM RNN."
   ]
  },
  {
   "cell_type": "markdown",
   "id": "2e748950",
   "metadata": {},
   "source": [
    "### Transformers\n",
    "\n",
    "Overcomes the minor problems in Bidirectional LSTM RNN, Encoders and Decoders, Attention Models"
   ]
  },
  {
   "cell_type": "markdown",
   "id": "c117fdde",
   "metadata": {},
   "source": [
    "### BERT\n",
    "\n",
    "Simplified version of Transformers."
   ]
  },
  {
   "cell_type": "markdown",
   "id": "05b321a4",
   "metadata": {},
   "source": [
    "### Libraries Used\n",
    "\n",
    "- Pytorch\n",
    "- Keras\n",
    "- Tensorflow\n",
    "- Spacy\n",
    "- NLTK"
   ]
  },
  {
   "cell_type": "code",
   "execution_count": null,
   "id": "89799bd3",
   "metadata": {},
   "outputs": [],
   "source": []
  }
 ],
 "metadata": {
  "kernelspec": {
   "display_name": "Python 3 (ipykernel)",
   "language": "python",
   "name": "python3"
  },
  "language_info": {
   "codemirror_mode": {
    "name": "ipython",
    "version": 3
   },
   "file_extension": ".py",
   "mimetype": "text/x-python",
   "name": "python",
   "nbconvert_exporter": "python",
   "pygments_lexer": "ipython3",
   "version": "3.8.11"
  }
 },
 "nbformat": 4,
 "nbformat_minor": 5
}

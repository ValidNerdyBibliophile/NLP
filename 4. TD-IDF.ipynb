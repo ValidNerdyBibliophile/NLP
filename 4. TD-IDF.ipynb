{
 "cells": [
  {
   "cell_type": "markdown",
   "id": "94608a82",
   "metadata": {},
   "source": [
    "###  TD-IDF ((Term Frequency - Inverse Document Frequency))\n",
    "\n",
    "The drawback of BoW is fullfilled by TD-IDF\n",
    "\n",
    "### Applying StopWords\n",
    "\n",
    "Sent1 - good boy\n",
    "\n",
    "Sent2 - good girl\n",
    "\n",
    "Sent3 - Boy Girl good\n",
    "\n",
    "\n",
    "###### Words Frequency\n",
    "\n",
    "good     3\n",
    "\n",
    "boy      2\n",
    "\n",
    "girl     2\n",
    "\n",
    "### Term Frequency\n",
    "\n",
    "No of rep of words in a sentence / No.of words in a sentence\n",
    "\n",
    "###### Sent1 Sent2 Sent3\n",
    "\n",
    "good  -   1/3 - 1/2 - 1/3\n",
    "\n",
    "boy   -   1/2 - 0   - 1/3\n",
    "\n",
    "girl  -   0   - 1/2 - 1/3\n",
    "\n",
    "### Inverse Document Frequency \n",
    "log(No. of sentences / No. of sentences containing words)\n",
    "\n",
    "###### Words IDF\n",
    "\n",
    "good - log(3/3)\n",
    "\n",
    "boy  - log (3/2)\n",
    "\n",
    "girl - log (3/2)\n",
    "\n",
    "\n",
    "### TF-IDF  (Term Frequency*Inverse Document Frequency )\n",
    "\n",
    "###### good boy girl\n",
    "\n",
    "sent1  -   0 - 1/2 * log(3/2) - 0\n",
    "\n",
    "sent2  -   0 -  0  - 1/2 * log(3/2)\n",
    "\n",
    "sent3  -   0 - 1/3 * log(3/2) - 1/2 * log(3/2)"
   ]
  },
  {
   "cell_type": "code",
   "execution_count": 1,
   "id": "78e7a0c2",
   "metadata": {},
   "outputs": [],
   "source": [
    "import nltk\n",
    "\n",
    "paragraph = \"\"\"My hero is Naruto Uzumaki. When Naruto was a child he didn't get used to people, he was always a goof ball \n",
    "cause he wanted people to know his name and who he really is. But the people in the village don't like him cause \n",
    "there was a monster inside him that his parents sealed away in order to protect their village. The people call the monster \n",
    "Nine Tail Fox cause they don't know his original name. They only name him that cause he's a fox and he has nine tails.\n",
    "Nine Tail Fox's original name is Kurama. When Naruto grew age by age he learned that the only way he can get some respect and \n",
    "so people can know who he is to become a hokage. A hokage is like a leader of the village. But in order to become hokage you \n",
    "have to rank up to it and become one of the strongest persons in the village and the best person who can lead it. Naruto is \n",
    "still in training so he can't become a ninja yet. At the age of 12 Naruto was able to pass his test and rank up to a ninja. \n",
    "When Naruto became a ninja he was put in a team of a group of 4 people. The group was always two men and one woman the last one\n",
    "is the sensei. The sensei can be a man or a woman. Naruto sensei name is Kakashi. Naruto team was name Team 7. Team 7 had lots\n",
    "of missions and every mission they do that is dangerous Naruto has made friends with them even if they're from different \n",
    "villages. Naruto wants to accomplish his dream to become the best hokage ever.When Naruto starts growing up he starts to \n",
    "make friends with other ninja teams. His friend starts to get jealous of him cause Naruto was stronger than they could never \n",
    "imagine. His friends knew that he had the Nine Tail Fox in him but they didn't care cause they acknowledged him for who he is. \n",
    "When Naruto turned the age of 16 he was a stronger and greater person. He became his village hero and he protects lots and lots\n",
    "of people. I acknowledge Naruto Uzumaki cause he is a person who never gives up and a person who loves his parents and protects \n",
    "his friends and people. The most thing i like about Naruto is that lots of people believe that Naruto can bring peace to the \n",
    "ninja world. \"\"\""
   ]
  },
  {
   "cell_type": "markdown",
   "id": "99277ac9",
   "metadata": {},
   "source": [
    "### Cleaning the Text\n",
    "- Removing Stopwords\n",
    "- Removing punctuatuions\n",
    "- Lowering the alphabets\n",
    "- Lemmatizing / Stemming"
   ]
  },
  {
   "cell_type": "code",
   "execution_count": 2,
   "id": "ea8298e9",
   "metadata": {},
   "outputs": [],
   "source": [
    "import re\n",
    "from nltk.corpus import stopwords\n",
    "from nltk.stem import PorterStemmer\n",
    "from nltk.stem import WordNetLemmatizer"
   ]
  },
  {
   "cell_type": "code",
   "execution_count": 3,
   "id": "6039d04f",
   "metadata": {},
   "outputs": [],
   "source": [
    "sentences = nltk.sent_tokenize(paragraph)\n",
    "ps = PorterStemmer()\n",
    "wn = WordNetLemmatizer()"
   ]
  },
  {
   "cell_type": "code",
   "execution_count": 4,
   "id": "321cb2e1",
   "metadata": {},
   "outputs": [],
   "source": [
    "corpus = []\n",
    "for i in range(len(sentences)):\n",
    "    review = re.sub(\"[^a-zA-Z]\", \" \", sentences[i])\n",
    "    review = review.lower()\n",
    "    review = review.split()\n",
    "    review = [wn.lemmatize(word) for word in review if word not in set(stopwords.words(\"english\"))]\n",
    "    review = \" \".join(review)\n",
    "    corpus.append(review)\n",
    "    "
   ]
  },
  {
   "cell_type": "markdown",
   "id": "70886c2f",
   "metadata": {},
   "source": [
    "### Creating the Bag of Words Model"
   ]
  },
  {
   "cell_type": "code",
   "execution_count": 7,
   "id": "17012ca3",
   "metadata": {},
   "outputs": [],
   "source": [
    "from sklearn.feature_extraction.text import TfidfVectorizer\n",
    "\n",
    "cv = TfidfVectorizer()\n",
    "X = cv.fit_transform(corpus).toarray()"
   ]
  },
  {
   "cell_type": "code",
   "execution_count": 8,
   "id": "19844562",
   "metadata": {},
   "outputs": [
    {
     "data": {
      "text/plain": [
       "array([[0.        , 0.        , 0.        , ..., 0.        , 0.        ,\n",
       "        0.        ],\n",
       "       [0.        , 0.        , 0.        , ..., 0.        , 0.        ,\n",
       "        0.        ],\n",
       "       [0.        , 0.        , 0.        , ..., 0.        , 0.        ,\n",
       "        0.        ],\n",
       "       ...,\n",
       "       [0.        , 0.        , 0.        , ..., 0.        , 0.        ,\n",
       "        0.        ],\n",
       "       [0.        , 0.        , 0.31513871, ..., 0.        , 0.        ,\n",
       "        0.        ],\n",
       "       [0.        , 0.        , 0.        , ..., 0.        , 0.35741432,\n",
       "        0.        ]])"
      ]
     },
     "execution_count": 8,
     "metadata": {},
     "output_type": "execute_result"
    }
   ],
   "source": [
    "X"
   ]
  },
  {
   "cell_type": "code",
   "execution_count": null,
   "id": "3dfcf065",
   "metadata": {},
   "outputs": [],
   "source": []
  }
 ],
 "metadata": {
  "kernelspec": {
   "display_name": "Python 3 (ipykernel)",
   "language": "python",
   "name": "python3"
  },
  "language_info": {
   "codemirror_mode": {
    "name": "ipython",
    "version": 3
   },
   "file_extension": ".py",
   "mimetype": "text/x-python",
   "name": "python",
   "nbconvert_exporter": "python",
   "pygments_lexer": "ipython3",
   "version": "3.8.11"
  }
 },
 "nbformat": 4,
 "nbformat_minor": 5
}

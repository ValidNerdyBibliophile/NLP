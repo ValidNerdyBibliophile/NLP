{
 "cells": [
  {
   "cell_type": "markdown",
   "id": "a46af5bc",
   "metadata": {},
   "source": [
    "If we have a text data, I cant give it directly to the ML model.\n",
    "\n",
    "Sent1 - He is a good boy\n",
    "Sent2 - She is a good girl\n",
    "Sent3 - Boy and Girl are good\n",
    "\n",
    "- Always Lower The Sentences.\n",
    "\n",
    "### Applying StopWords\n",
    "\n",
    "Sent1 - good boy\n",
    "\n",
    "Sent2 - good girl\n",
    "\n",
    "Sent3 - Boy Girl good\n",
    "\n",
    "\n",
    "###### Words Frequency\n",
    "\n",
    "good     3\n",
    "\n",
    "boy      2\n",
    "\n",
    "girl     2\n",
    " \n",
    "### Applying BagofWords (Binary BogofWords)\n",
    "\n",
    "It will create a table with features like good boy and girl as cols and sent1, sent2 and sent3 as rows, and if row1 ie sent1 has good and boy, it will mark 1 there and in sent1 girl is not there it will be 0.\n",
    "\n",
    "### Applying BagofWords\n",
    "Suppose in sent1, a word boy is repetating twice, we can change it in 2 (or can be any number of counts) instead of just binary 1 and 0 like we do in Binary BagofWords\n",
    "\n",
    "\n",
    "## Drawback of BagofWords\n",
    "\n",
    "- In our case, both good and boy will be 1. So we wont understand which word is of more significance. Good should be more important than boy. BUT good and boy both have same weightage.\n",
    "\n",
    "- Can be used when we have small data. If we have a large data, Word2vec is a goto!!"
   ]
  },
  {
   "cell_type": "code",
   "execution_count": 1,
   "id": "c5abe35b",
   "metadata": {},
   "outputs": [],
   "source": [
    "import nltk"
   ]
  },
  {
   "cell_type": "code",
   "execution_count": 2,
   "id": "6e102bad",
   "metadata": {},
   "outputs": [],
   "source": [
    "paragraph = \"\"\"My hero is Naruto Uzumaki. When Naruto was a child he didn't get used to people, he was always a goof ball \n",
    "cause he wanted people to know his name and who he really is. But the people in the village don't like him cause \n",
    "there was a monster inside him that his parents sealed away in order to protect their village. The people call the monster \n",
    "Nine Tail Fox cause they don't know his original name. They only name him that cause he's a fox and he has nine tails.\n",
    "Nine Tail Fox's original name is Kurama. When Naruto grew age by age he learned that the only way he can get some respect and \n",
    "so people can know who he is to become a hokage. A hokage is like a leader of the village. But in order to become hokage you \n",
    "have to rank up to it and become one of the strongest persons in the village and the best person who can lead it. Naruto is \n",
    "still in training so he can't become a ninja yet. At the age of 12 Naruto was able to pass his test and rank up to a ninja. \n",
    "When Naruto became a ninja he was put in a team of a group of 4 people. The group was always two men and one woman the last one\n",
    "is the sensei. The sensei can be a man or a woman. Naruto sensei name is Kakashi. Naruto team was name Team 7. Team 7 had lots\n",
    "of missions and every mission they do that is dangerous Naruto has made friends with them even if they're from different \n",
    "villages. Naruto wants to accomplish his dream to become the best hokage ever.When Naruto starts growing up he starts to \n",
    "make friends with other ninja teams. His friend starts to get jealous of him cause Naruto was stronger than they could never \n",
    "imagine. His friends knew that he had the Nine Tail Fox in him but they didn't care cause they acknowledged him for who he is. \n",
    "When Naruto turned the age of 16 he was a stronger and greater person. He became his village hero and he protects lots and lots\n",
    "of people. I acknowledge Naruto Uzumaki cause he is a person who never gives up and a person who loves his parents and protects \n",
    "his friends and people. The most thing i like about Naruto is that lots of people believe that Naruto can bring peace to the \n",
    "ninja world. \"\"\""
   ]
  },
  {
   "cell_type": "markdown",
   "id": "4baa8f18",
   "metadata": {},
   "source": [
    "### Cleaning the Text\n",
    "- Removing Stopwords\n",
    "- Removing punctuatuions\n",
    "- Lowering the alphabets\n",
    "- Lemmatizing / Stemming"
   ]
  },
  {
   "cell_type": "code",
   "execution_count": 6,
   "id": "0216e47b",
   "metadata": {},
   "outputs": [],
   "source": [
    "import re\n",
    "from nltk.corpus import stopwords\n",
    "from nltk.stem import PorterStemmer\n",
    "from nltk.stem import WordNetLemmatizer"
   ]
  },
  {
   "cell_type": "code",
   "execution_count": 7,
   "id": "241f8653",
   "metadata": {},
   "outputs": [],
   "source": [
    "ps = PorterStemmer()\n",
    "wn = WordNetLemmatizer()\n",
    "sentences = nltk.sent_tokenize(paragraph)"
   ]
  },
  {
   "cell_type": "code",
   "execution_count": 10,
   "id": "939091a5",
   "metadata": {},
   "outputs": [],
   "source": [
    "corpus = []\n",
    "for i in range(len(sentences)):\n",
    "    review = re.sub(\"[^a-zA-Z]\", \" \", sentences[i])\n",
    "    review = review.lower()\n",
    "    review = review.split()\n",
    "    review = [wn.lemmatize(word) for word in review if word not in set(stopwords.words(\"english\"))]\n",
    "    review = \" \".join(review)\n",
    "    corpus.append(review)\n",
    "    "
   ]
  },
  {
   "cell_type": "code",
   "execution_count": 11,
   "id": "90c1899f",
   "metadata": {},
   "outputs": [
    {
     "data": {
      "text/plain": [
       "['hero naruto uzumaki',\n",
       " 'naruto child get used people always goof ball cause wanted people know name really',\n",
       " 'people village like cause monster inside parent sealed away order protect village',\n",
       " 'people call monster nine tail fox cause know original name',\n",
       " 'name cause fox nine tail',\n",
       " 'nine tail fox original name kurama',\n",
       " 'naruto grew age age learned way get respect people know become hokage',\n",
       " 'hokage like leader village',\n",
       " 'order become hokage rank become one strongest person village best person lead',\n",
       " 'naruto still training become ninja yet',\n",
       " 'age naruto able pas test rank ninja',\n",
       " 'naruto became ninja put team group people',\n",
       " 'group always two men one woman last one sensei',\n",
       " 'sensei man woman',\n",
       " 'naruto sensei name kakashi',\n",
       " 'naruto team name team',\n",
       " 'team lot mission every mission dangerous naruto made friend even different village',\n",
       " 'naruto want accomplish dream become best hokage ever naruto start growing start make friend ninja team',\n",
       " 'friend start get jealous cause naruto stronger could never imagine',\n",
       " 'friend knew nine tail fox care cause acknowledged',\n",
       " 'naruto turned age stronger greater person',\n",
       " 'became village hero protects lot lot people',\n",
       " 'acknowledge naruto uzumaki cause person never give person love parent protects friend people',\n",
       " 'thing like naruto lot people believe naruto bring peace ninja world']"
      ]
     },
     "execution_count": 11,
     "metadata": {},
     "output_type": "execute_result"
    }
   ],
   "source": [
    "corpus"
   ]
  },
  {
   "cell_type": "markdown",
   "id": "b1c3be36",
   "metadata": {},
   "source": [
    "### Creating the Bag of Words Model\n",
    "\n",
    "#### CountVectorizer is responsible for creating the Model. Steps are: \n",
    "- Histogram\n",
    "- Sort Histogram\n",
    "- Filter Words\n",
    "- Creating a Matrix"
   ]
  },
  {
   "cell_type": "code",
   "execution_count": 13,
   "id": "9c736f74",
   "metadata": {},
   "outputs": [],
   "source": [
    "from sklearn.feature_extraction.text import CountVectorizer\n",
    "\n",
    "cv = CountVectorizer()"
   ]
  },
  {
   "cell_type": "code",
   "execution_count": 14,
   "id": "a6dfdbc9",
   "metadata": {},
   "outputs": [],
   "source": [
    "X = cv.fit_transform(corpus).toarray()"
   ]
  },
  {
   "cell_type": "code",
   "execution_count": 15,
   "id": "2c3cc058",
   "metadata": {},
   "outputs": [
    {
     "data": {
      "text/plain": [
       "array([[0, 0, 0, ..., 0, 0, 0],\n",
       "       [0, 0, 0, ..., 0, 0, 0],\n",
       "       [0, 0, 0, ..., 0, 0, 0],\n",
       "       ...,\n",
       "       [0, 0, 0, ..., 0, 0, 0],\n",
       "       [0, 0, 1, ..., 0, 0, 0],\n",
       "       [0, 0, 0, ..., 0, 1, 0]], dtype=int64)"
      ]
     },
     "execution_count": 15,
     "metadata": {},
     "output_type": "execute_result"
    }
   ],
   "source": [
    "X"
   ]
  },
  {
   "cell_type": "code",
   "execution_count": null,
   "id": "a1f17c5e",
   "metadata": {},
   "outputs": [],
   "source": []
  }
 ],
 "metadata": {
  "kernelspec": {
   "display_name": "Python 3 (ipykernel)",
   "language": "python",
   "name": "python3"
  },
  "language_info": {
   "codemirror_mode": {
    "name": "ipython",
    "version": 3
   },
   "file_extension": ".py",
   "mimetype": "text/x-python",
   "name": "python",
   "nbconvert_exporter": "python",
   "pygments_lexer": "ipython3",
   "version": "3.8.11"
  }
 },
 "nbformat": 4,
 "nbformat_minor": 5
}
